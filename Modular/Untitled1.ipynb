{
 "cells": [
  {
   "cell_type": "code",
   "execution_count": 1,
   "metadata": {
    "collapsed": false
   },
   "outputs": [
    {
     "name": "stdout",
     "output_type": "stream",
     "text": [
      "Writing input.par\n"
     ]
    }
   ],
   "source": [
    "%%file input.par\n",
    "-3.0 !xmin\n",
    "3.0 !xmax\n",
    "1000 !Nx\n",
    "0.1 !a0\n",
    "0. !a1\n",
    "1. !a2\n",
    "0. !a3\n",
    "-0.25 !a4"
   ]
  },
  {
   "cell_type": "code",
   "execution_count": 2,
   "metadata": {
    "collapsed": false
   },
   "outputs": [
    {
     "name": "stdout",
     "output_type": "stream",
     "text": [
      "aloja_memoria.f90\tleer_parametros.f90\t\t       salvar_datos.f90\r\n",
      "checa_parametros.f90\tnumeros_globales.f90\t\t       Untitled1.ipynb\r\n",
      "discretiza_dominio.f90\tpolinomio_con_subrutina_Nglobales.f90  Untitled.ipynb\r\n",
      "input.par\t\tpolinomio.f90\r\n"
     ]
    }
   ],
   "source": [
    "!ls"
   ]
  },
  {
   "cell_type": "code",
   "execution_count": 7,
   "metadata": {
    "collapsed": false
   },
   "outputs": [
    {
     "name": "stdout",
     "output_type": "stream",
     "text": [
      "Overwriting Makefile\n"
     ]
    }
   ],
   "source": [
    "%%file Makefile\n",
    "FC=gfortran\n",
    "LNK=gfortran\n",
    "\n",
    "OBJS = aloja_memoria.o leer_parametros.o polinomio.o polinomio_con_subrutina_Nglobales.o checa_parametros.o salvar_datos.o discretiza_dominio.o\n",
    "MODS = numeros_globales.o\n",
    "\n",
    "$(OBJS):\t$(MODS)\n",
    "\n",
    "polis:\t$(OBJS) $(MODS) \n",
    "\t\t$(LNK) -o xPolinomio $(OBJS) $(MODS)\n",
    "\n",
    ".PHONY: clean\n",
    "\n",
    "clean:\n",
    "\t-rm -f *.o *.mod xPolinomio\n",
    "\n",
    "%.o : %.f90\n",
    "\t$(FC) -c $< -o $@"
   ]
  },
  {
   "cell_type": "code",
   "execution_count": 8,
   "metadata": {
    "collapsed": false
   },
   "outputs": [
    {
     "name": "stdout",
     "output_type": "stream",
     "text": [
      "gfortran -c polinomio.f90 -o polinomio.o\r\n",
      "gfortran -o xPolinomio aloja_memoria.o leer_parametros.o polinomio.o polinomio_con_subrutina_Nglobales.o checa_parametros.o salvar_datos.o discretiza_dominio.o numeros_globales.o\r\n"
     ]
    }
   ],
   "source": [
    "!make polis"
   ]
  },
  {
   "cell_type": "code",
   "execution_count": 10,
   "metadata": {
    "collapsed": false
   },
   "outputs": [],
   "source": [
    "!./xPolinomio"
   ]
  },
  {
   "cell_type": "code",
   "execution_count": 11,
   "metadata": {
    "collapsed": false
   },
   "outputs": [
    {
     "name": "stdout",
     "output_type": "stream",
     "text": [
      "aloja_memoria.f90\tleer_parametros.o\t\t       polinomio.o\r\n",
      "aloja_memoria.o\t\tMakefile\t\t\t       salida\r\n",
      "checa_parametros.f90\tnumeros_globales.f90\t\t       salvar_datos.f90\r\n",
      "checa_parametros.o\tnumeros_globales.mod\t\t       salvar_datos.o\r\n",
      "discretiza_dominio.f90\tnumeros_globales.o\t\t       Untitled1.ipynb\r\n",
      "discretiza_dominio.o\tpolinomio_con_subrutina_Nglobales.f90  Untitled.ipynb\r\n",
      "input.par\t\tpolinomio_con_subrutina_Nglobales.o    xPolinomio\r\n",
      "leer_parametros.f90\tpolinomio.f90\r\n"
     ]
    }
   ],
   "source": [
    "!ls"
   ]
  },
  {
   "cell_type": "code",
   "execution_count": null,
   "metadata": {
    "collapsed": true
   },
   "outputs": [],
   "source": []
  }
 ],
 "metadata": {
  "kernelspec": {
   "display_name": "Python 2",
   "language": "python",
   "name": "python2"
  },
  "language_info": {
   "codemirror_mode": {
    "name": "ipython",
    "version": 2
   },
   "file_extension": ".py",
   "mimetype": "text/x-python",
   "name": "python",
   "nbconvert_exporter": "python",
   "pygments_lexer": "ipython2",
   "version": "2.7.9"
  }
 },
 "nbformat": 4,
 "nbformat_minor": 0
}
