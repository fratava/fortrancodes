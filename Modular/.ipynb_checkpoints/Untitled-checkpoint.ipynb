{
 "cells": [
  {
   "cell_type": "code",
   "execution_count": 1,
   "metadata": {
    "collapsed": false
   },
   "outputs": [
    {
     "name": "stdout",
     "output_type": "stream",
     "text": [
      "Writing numeros_globales.f90\n"
     ]
    }
   ],
   "source": [
    "%%file numeros_globales.f90\n",
    "module numeros_globales\n",
    "\n",
    "real(kind=8),allocatable, dimension(:) :: x,p\n",
    "integer Nx\n",
    "real(kind=8) dx\n",
    "real(kind=8) a0,a1,a2,a3,a4,xmin,xmax\n",
    "\n",
    "end module"
   ]
  },
  {
   "cell_type": "code",
   "execution_count": 2,
   "metadata": {
    "collapsed": false
   },
   "outputs": [
    {
     "name": "stdout",
     "output_type": "stream",
     "text": [
      "Overwriting polinomio_con_subrutina_Nglobales.f90\n"
     ]
    }
   ],
   "source": [
    "%%file polinomio_con_subrutina_Nglobales.f90\n",
    "program polinomio_con_subrutina_Nglobales\n",
    "\n",
    "use numeros_globales\n",
    "implicit none\n",
    "\n",
    "call leer_parametros()\n",
    "call aloja_memoria()\n",
    "call checa_parametros()\n",
    "call discretiza_dominio()\n",
    "call polinomio()\n",
    "call salvar_datos('salida')\n",
    "\n",
    "\n",
    "end program"
   ]
  },
  {
   "cell_type": "code",
   "execution_count": 3,
   "metadata": {
    "collapsed": false
   },
   "outputs": [
    {
     "name": "stdout",
     "output_type": "stream",
     "text": [
      "Writing checa_parametros.f90\n"
     ]
    }
   ],
   "source": [
    "%%file checa_parametros.f90\n",
    "subroutine checa_parametros()\n",
    "\n",
    "use numeros_globales\n",
    "implicit none\n",
    "\n",
    "if (xmax.le.xmin) then\n",
    "    print *,'Error xmax<=xmin'\n",
    "    stop\n",
    "end if\n",
    "\n",
    "end subroutine checa_parametros"
   ]
  },
  {
   "cell_type": "code",
   "execution_count": 4,
   "metadata": {
    "collapsed": false
   },
   "outputs": [
    {
     "name": "stdout",
     "output_type": "stream",
     "text": [
      "Writing polinomio.f90\n"
     ]
    }
   ],
   "source": [
    "%%file polinomio.f90\n",
    "subroutine polinomio()\n",
    "\n",
    "use numeros_globales\n",
    "implicit none\n",
    "\n",
    "p=a0+a1*x+a2*x**2+a3*x**3+a4*x**4\n",
    "\n",
    "end subroutine polinomio"
   ]
  },
  {
   "cell_type": "code",
   "execution_count": null,
   "metadata": {
    "collapsed": true
   },
   "outputs": [],
   "source": [
    "%%file polinomio_con_subrutina_Nglobales.f90\n",
    "!!!!!!!!!!!!!!!!!!!!!!!!!!!!!!!!!!!!!!\n",
    "!!!-->Declara las variables\n",
    "module numeros_globales\n",
    "\n",
    "real(kind=8),allocatable, dimension(:) :: x,p\n",
    "integer Nx\n",
    "real(kind=8) dx\n",
    "real(kind=8) a0,a1,a2,a3,a4,xmin,xmax\n",
    "\n",
    "end module\n",
    "\n",
    "!!!!!!!!!!!!!!!!!!!!!!!!!!!!!Inicio programa!!!!!!!!!!!!!!!!!!!!!!!!!!!!!!!!!!!!!!!!!!!!!!!!!!!\n",
    "program polinomio_con_subrutina_Nglobales\n",
    "\n",
    "use numeros_globales\n",
    "implicit none\n",
    "\n",
    "call leer_parametros()\n",
    "call aloja_memoria()\n",
    "call checa_parametros()\n",
    "call discretiza_dominio()\n",
    "call polinomio()\n",
    "call salvar_datos('salida')\n",
    "\n",
    "\n",
    "end program\n",
    "\n",
    "!!!!!!!!!!!!!!!!!!fin del programa!!!!!!!!!!!!!!!!!!!!!!!!!!!!!!!!!!!!!!!!!!!\n",
    "\n",
    "\n",
    "\n",
    "\n",
    "!!!!!!!!!!!!!!!!!!!!comienzo de subrutinas!!!!!!!!!!!!!!!!!!!!!!!!!\n",
    "subroutine checa_parametros()\n",
    "\n",
    "use numeros_globales\n",
    "implicit none\n",
    "\n",
    "if (xmax.le.xmin) then\n",
    "    print *,'Error xmax<=xmin'\n",
    "    stop\n",
    "end if\n",
    "\n",
    "end subroutine checa_parametros\n",
    "!!!!!!!!!!!!!!!!!!!!!!!!!!!!!!!!!!!!!!!!!!!!!!!!!!!!!!!!!!!\n",
    "\n",
    "!!!!!!!!!!!!!!!!!!!!!!!!!!!!!!!!!!!!!!!!!!!!!!!!!!!!!!!!!!!\n",
    "subroutine polinomio()\n",
    "\n",
    "use numeros_globales\n",
    "implicit none\n",
    "\n",
    "p=a0+a1*x+a2*x**2+a3*x**3+a4*x**4\n",
    "\n",
    "end subroutine polinomio\n",
    "!!!!!!!!!!!!!!!!!!!!!!!!!!!!!!!!!!!!!!!!!!!!!!!!!!!!!!!!!!!\n",
    "\n",
    "!!!!!!!!!!!!!!!!!!!!!!!!!!!!!!!!!!!!!!!!!!!!!!!!!!!!!!!!!!!\n",
    "subroutine aloja_memoria()\n",
    "\n",
    "use numeros_globales\n",
    "implicit none\n",
    "allocate(x(0:Nx),p(0:Nx))\n",
    "end subroutine aloja_memoria\n",
    "!!!!!!!!!!!!!!!!!!!!!!!!!!!!!!!!!!!!!!!!!!!!!!!!!!!!!!!!!!!\n",
    "\n",
    "!!!!!!!!!!!!!!!!!!!!!!!!!!!!!!!!!!!!!!!!!!!!!!!!!!!!!!!!!!!\n",
    "subroutine discretiza_dominio()\n",
    "\n",
    "use numeros_globales\n",
    "implicit none\n",
    "integer i\n",
    "\n",
    "dx=( xmax-xmin)/dble(Nx)\n",
    "do i=0,Nx\n",
    "    x(i)=xmin+dx*dble(i)\n",
    "    !print *,i,x(i)\n",
    "end do\n",
    "\n",
    "\n",
    "end subroutine discretiza_dominio\n",
    "!!!!!!!!!!!!!!!!!!!!!!!!!!!!!!!!!!!!!!!!!!!!!!!!!!!!!!!!!!!\n",
    "\n",
    "!!!!!!!!!!!!!!!!!!!!!!!!!!!!!!!!!!!!!!!!!!!!!!!!!!!!!!!!!!!\n",
    "subroutine leer_parametros()\n",
    "\n",
    "use numeros_globales\n",
    "implicit none\n",
    "\n",
    "!!!-->para leer datos desde un archivo de parámetros (.par)\n",
    "open(10,file='input.par')\n",
    "read(10,*) xmin\n",
    "read(10,*) xmax\n",
    "read(10,*) Nx\n",
    "read(10,*) a0\n",
    "read(10,*) a1\n",
    "read(10,*) a2\n",
    "read(10,*) a3\n",
    "read(10,*) a4\n",
    "!!!!!!!!!!!!!!!!!!!!!!!!!!!!!!!!!!!!!!!!!\n",
    "!!!--> Se cierra el archivo que lees\n",
    "close(10)\n",
    "\n",
    "end subroutine leer_parametros\n",
    "!!!!!!!!!!!!!!!!!!!!!!!!!!!!!!!!!!!!!!!!!!!!!!!!!!!!!!!!!!!\n",
    "\n",
    "\n",
    "!!!!!!!!!!!!!!!!!!!!!!!!!!!!!!!!!!!!!!!!!!!!!!!!!!!!!!!!!!!\n",
    "subroutine salvar_datos(nombre_archivo)\n",
    "\n",
    "use numeros_globales\n",
    "implicit none\n",
    "\n",
    "integer i\n",
    "character(len=30) nombre_archivo\n",
    "\n",
    "open(11,file=nombre_archivo)\n",
    " write(11,*) '#        x               p(x)'\n",
    "do i=0,Nx  \n",
    "    !print *,x(i),p(i)\n",
    "    write(11,*) x(i),p(i),x(i)*p(i)\n",
    "end do\n",
    "close(11)\n",
    "\n",
    "end subroutine\n",
    "!!!!!!!!!!!!!!!!!!!!!!!!!!!!!!!!!!!!!!!!!!!!!!!!!!!!!!!!!!!"
   ]
  },
  {
   "cell_type": "code",
   "execution_count": 5,
   "metadata": {
    "collapsed": false
   },
   "outputs": [
    {
     "name": "stdout",
     "output_type": "stream",
     "text": [
      "Writing aloja_memoria.f90\n"
     ]
    }
   ],
   "source": [
    "%%file aloja_memoria.f90\n",
    "subroutine aloja_memoria()\n",
    "\n",
    "use numeros_globales\n",
    "implicit none\n",
    "allocate(x(0:Nx),p(0:Nx))\n",
    "end subroutine aloja_memoria"
   ]
  },
  {
   "cell_type": "code",
   "execution_count": 6,
   "metadata": {
    "collapsed": false
   },
   "outputs": [
    {
     "name": "stdout",
     "output_type": "stream",
     "text": [
      "Writing discretiza_dominio.f90\n"
     ]
    }
   ],
   "source": [
    "%%file discretiza_dominio.f90\n",
    "subroutine discretiza_dominio()\n",
    "\n",
    "use numeros_globales\n",
    "implicit none\n",
    "integer i\n",
    "\n",
    "dx=( xmax-xmin)/dble(Nx)\n",
    "do i=0,Nx\n",
    "    x(i)=xmin+dx*dble(i)\n",
    "    !print *,i,x(i)\n",
    "end do\n",
    "\n",
    "\n",
    "end subroutine discretiza_dominio"
   ]
  },
  {
   "cell_type": "code",
   "execution_count": 7,
   "metadata": {
    "collapsed": false
   },
   "outputs": [
    {
     "name": "stdout",
     "output_type": "stream",
     "text": [
      "Writing leer_parametros.f90\n"
     ]
    }
   ],
   "source": [
    "%%file leer_parametros.f90\n",
    "subroutine leer_parametros()\n",
    "\n",
    "use numeros_globales\n",
    "implicit none\n",
    "\n",
    "!!!-->para leer datos desde un archivo de parámetros (.par)\n",
    "open(10,file='input.par')\n",
    "read(10,*) xmin\n",
    "read(10,*) xmax\n",
    "read(10,*) Nx\n",
    "read(10,*) a0\n",
    "read(10,*) a1\n",
    "read(10,*) a2\n",
    "read(10,*) a3\n",
    "read(10,*) a4\n",
    "!!!!!!!!!!!!!!!!!!!!!!!!!!!!!!!!!!!!!!!!!\n",
    "!!!--> Se cierra el archivo que lees\n",
    "close(10)\n",
    "\n",
    "end subroutine leer_parametros"
   ]
  },
  {
   "cell_type": "code",
   "execution_count": 8,
   "metadata": {
    "collapsed": false
   },
   "outputs": [
    {
     "name": "stdout",
     "output_type": "stream",
     "text": [
      "Writing salvar_datos.f90\n"
     ]
    }
   ],
   "source": [
    "%%file salvar_datos.f90\n",
    "subroutine salvar_datos(nombre_archivo)\n",
    "\n",
    "use numeros_globales\n",
    "implicit none\n",
    "\n",
    "integer i\n",
    "character(len=30) nombre_archivo\n",
    "\n",
    "open(11,file=nombre_archivo)\n",
    " write(11,*) '#        x               p(x)'\n",
    "do i=0,Nx  \n",
    "    !print *,x(i),p(i)\n",
    "    write(11,*) x(i),p(i),x(i)*p(i)\n",
    "end do\n",
    "close(11)\n",
    "\n",
    "end subroutine"
   ]
  },
  {
   "cell_type": "code",
   "execution_count": 9,
   "metadata": {
    "collapsed": false
   },
   "outputs": [
    {
     "name": "stdout",
     "output_type": "stream",
     "text": [
      "aloja_memoria.f90\tleer_parametros.f90\t\t       polinomio.f90\r\n",
      "checa_parametros.f90\tnumeros_globales.f90\t\t       salvar_datos.f90\r\n",
      "discretiza_dominio.f90\tpolinomio_con_subrutina_Nglobales.f90  Untitled.ipynb\r\n"
     ]
    }
   ],
   "source": [
    "!ls"
   ]
  },
  {
   "cell_type": "code",
   "execution_count": null,
   "metadata": {
    "collapsed": true
   },
   "outputs": [],
   "source": []
  }
 ],
 "metadata": {
  "kernelspec": {
   "display_name": "Python 2",
   "language": "python",
   "name": "python2"
  },
  "language_info": {
   "codemirror_mode": {
    "name": "ipython",
    "version": 2
   },
   "file_extension": ".py",
   "mimetype": "text/x-python",
   "name": "python",
   "nbconvert_exporter": "python",
   "pygments_lexer": "ipython2",
   "version": "2.7.9"
  }
 },
 "nbformat": 4,
 "nbformat_minor": 0
}
